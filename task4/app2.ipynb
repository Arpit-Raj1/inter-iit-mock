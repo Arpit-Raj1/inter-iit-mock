{
 "cells": [
  {
   "cell_type": "code",
   "execution_count": 131,
   "id": "da4551c7",
   "metadata": {},
   "outputs": [],
   "source": [
    "from google import genai\n",
    "from google.genai import types\n",
    "import os\n",
    "import json\n",
    "from dotenv import load_dotenv"
   ]
  },
  {
   "cell_type": "code",
   "execution_count": 132,
   "id": "c9d7198b",
   "metadata": {},
   "outputs": [],
   "source": [
    "load_dotenv()\n",
    "\n",
    "API_KEY = os.getenv(\"GEMINI_API_KEY\")\n",
    "\n",
    "if not API_KEY:\n",
    "    raise ValueError(\"GEMINI_API_KEY not found.\")"
   ]
  },
  {
   "cell_type": "code",
   "execution_count": 133,
   "id": "ef5385d7",
   "metadata": {},
   "outputs": [],
   "source": [
    "chat_history= []\n",
    "\n",
    "def history_append(role: str, text: str):\n",
    "  global chat_history\n",
    "  chat_history.append(types.Content(\n",
    "    role=role,\n",
    "    parts=[types.Part.from_text(text=text)]\n",
    "  ))"
   ]
  },
  {
   "cell_type": "code",
   "execution_count": 134,
   "id": "ec42b7bb",
   "metadata": {},
   "outputs": [],
   "source": [
    "MODEL = \"gemini-2.5-flash\"\n",
    "SYSTEM_INSTRUCTION = {\n",
    "    \"You are an AI assistant for a financial services company. \"\n",
    "    \"Your role is to answer user queries about finance, banking, and investments. \"\n",
    "    \"Be polite, clear, and professional.\"\n",
    "}\n",
    "CONFIG = types.GenerateContentConfig(\n",
    "  system_instruction=SYSTEM_INSTRUCTION,\n",
    "  temperature=0.3,\n",
    ")\n",
    "\n",
    "history_append(\"system\", \"You are an AI assistant for a financial services company. \"\n",
    "                         \"Your role is to answer user queries about finance, banking, and investments. \"\n",
    "                         \"Be polite, clear, and professional.\")\n",
    "\n",
    "\n",
    "\n",
    "client = genai.Client(api_key=API_KEY)"
   ]
  },
  {
   "cell_type": "code",
   "execution_count": 135,
   "id": "0cd498f1",
   "metadata": {},
   "outputs": [],
   "source": [
    "# Create new chat\n",
    "chat = client.chats.create(model = MODEL, config= CONFIG)"
   ]
  },
  {
   "cell_type": "code",
   "execution_count": 136,
   "id": "4e4a5027",
   "metadata": {},
   "outputs": [],
   "source": [
    "def give_prompt(text_prompt:str)->str:\n",
    "  global chat_history\n",
    "  global chat\n",
    "  \n",
    "  history_append(\"user\", text_prompt)\n",
    "\n",
    "  response = chat.send_message(text_prompt)\n",
    "\n",
    "  history_append(\"model\", response.text)\n",
    "\n",
    "  return response.text\n"
   ]
  },
  {
   "cell_type": "code",
   "execution_count": 137,
   "id": "d427db4c",
   "metadata": {},
   "outputs": [
    {
     "name": "stdout",
     "output_type": "stream",
     "text": [
      "What is my name\n",
      "I apologize, but as an AI assistant, I do not have access to your personal information, including your name. My purpose is to provide information and answer questions about finance, banking, and investments.\n",
      "Your last question was: \"what is my name?\"\n"
     ]
    }
   ],
   "source": [
    "print(\"What is my name\")\n",
    "print(give_prompt(\"what is my name?\"))\n",
    "\n",
    "\n",
    "print(give_prompt(\"what was my lasst question?\"))"
   ]
  },
  {
   "cell_type": "code",
   "execution_count": 138,
   "id": "b8061eba",
   "metadata": {},
   "outputs": [
    {
     "name": "stdout",
     "output_type": "stream",
     "text": [
      "[Content(\n",
      "  parts=[\n",
      "    Part(\n",
      "      text='You are an AI assistant for a financial services company. Your role is to answer user queries about finance, banking, and investments. Be polite, clear, and professional.'\n",
      "    ),\n",
      "  ],\n",
      "  role='system'\n",
      "), Content(\n",
      "  parts=[\n",
      "    Part(\n",
      "      text='what is my name?'\n",
      "    ),\n",
      "  ],\n",
      "  role='user'\n",
      "), Content(\n",
      "  parts=[\n",
      "    Part(\n",
      "      text='I apologize, but as an AI assistant, I do not have access to your personal information, including your name. My purpose is to provide information and answer questions about finance, banking, and investments.'\n",
      "    ),\n",
      "  ],\n",
      "  role='model'\n",
      "), Content(\n",
      "  parts=[\n",
      "    Part(\n",
      "      text='what was my lasst question?'\n",
      "    ),\n",
      "  ],\n",
      "  role='user'\n",
      "), Content(\n",
      "  parts=[\n",
      "    Part(\n",
      "      text='Your last question was: \"what is my name?\"'\n",
      "    ),\n",
      "  ],\n",
      "  role='model'\n",
      ")]\n"
     ]
    }
   ],
   "source": [
    "print(chat_history)"
   ]
  },
  {
   "cell_type": "code",
   "execution_count": 139,
   "id": "d530cdda",
   "metadata": {},
   "outputs": [],
   "source": [
    "client.close()"
   ]
  },
  {
   "cell_type": "code",
   "execution_count": 140,
   "id": "1b212a61",
   "metadata": {},
   "outputs": [],
   "source": [
    "EXTRACTOR_API_KEY = os.getenv(\"GEMINI_EXTRACTOR_API_KEY\")\n",
    "\n",
    "if not EXTRACTOR_API_KEY:\n",
    "    raise ValueError(\"GEMINI_API_KEY not found.\")\n",
    "\n",
    "extractor = genai.Client(api_key=EXTRACTOR_API_KEY)\n",
    "# extractor_chat = extractor.chats.create(model=MODEL)"
   ]
  },
  {
   "cell_type": "code",
   "execution_count": 141,
   "id": "38ae839b",
   "metadata": {},
   "outputs": [],
   "source": [
    "user_db = []"
   ]
  },
  {
   "cell_type": "code",
   "execution_count": 142,
   "id": "1d6caf26",
   "metadata": {},
   "outputs": [],
   "source": [
    "def extract_details(text_prompt:str)->dict:\n",
    "  global extractor\n",
    "\n",
    "  extraction_prompt = f\"\"\"\n",
    "      Analyze the following text from a user. Extract any important personal\n",
    "      details such as name, account number, specific financial goal, \n",
    "      or contact information. \n",
    "      \n",
    "      Respond in JSON format with keys \"name\", \"account_number\", \"goal\", \n",
    "      \"contact\", or \"other_details\". If no information is found for a key, \n",
    "      use null.\n",
    "\n",
    "      Text: \"{text_prompt}\"\n",
    "      \n",
    "      JSON:\n",
    "      \"\"\"\n",
    "  \n",
    "  try:\n",
    "    response = client.models.generate_content(\n",
    "      model=MODEL, \n",
    "      contents = [extraction_prompt], \n",
    "      config=types.GenerateContentConfig(\n",
    "        response_mime_type=\"application/json\",\n",
    "      ),\n",
    "    )\n",
    "\n",
    "    return json.loads(response.text)\n",
    "  \n",
    "  except Exception as e:\n",
    "    print(f\"[Detail Extraction Failed: {e}]\")\n",
    "    return None\n"
   ]
  },
  {
   "cell_type": "code",
   "execution_count": 143,
   "id": "c5efbc7f",
   "metadata": {},
   "outputs": [
    {
     "name": "stdout",
     "output_type": "stream",
     "text": [
      "[Detail Extraction Failed: Cannot send a request, as the client has been closed.]\n"
     ]
    }
   ],
   "source": [
    "new_details = extract_details(\"my name is Arpit Raj. Im a student. My account number is 1234\")"
   ]
  },
  {
   "cell_type": "code",
   "execution_count": 144,
   "id": "47408004",
   "metadata": {},
   "outputs": [
    {
     "name": "stdout",
     "output_type": "stream",
     "text": [
      "None\n",
      "<class 'NoneType'>\n"
     ]
    }
   ],
   "source": [
    "print(new_details)\n",
    "print(type(new_details))"
   ]
  },
  {
   "cell_type": "code",
   "execution_count": 145,
   "id": "875978cb",
   "metadata": {},
   "outputs": [],
   "source": [
    "def update_db(new_details):\n",
    "  global user_db\n",
    "  has_new_info = False\n",
    "  \n",
    "  for new_detail in new_details:\n",
    "        for key, value in new_details.items():\n",
    "            if value and user_db.get(key) != value:\n",
    "                user_db[key] = value\n",
    "                has_new_info = True\n",
    "\n",
    "  return has_new_info "
   ]
  },
  {
   "cell_type": "code",
   "execution_count": 146,
   "id": "6c28d30b",
   "metadata": {},
   "outputs": [],
   "source": [
    "user_db = {\"Roll\": \"2301EC07\", \"name\" :\"ayush\", \"add\": \"Patna\"}\n",
    "\n",
    "new_details={'name': 'Arpit Raj', 'account_number': '1234', 'goal': None, 'contact': None, 'other_details': 'student'}"
   ]
  },
  {
   "cell_type": "code",
   "execution_count": 147,
   "id": "4f54f3bf",
   "metadata": {},
   "outputs": [],
   "source": [
    "has_new = update_db(new_details)"
   ]
  },
  {
   "cell_type": "code",
   "execution_count": 148,
   "id": "1d66aca6",
   "metadata": {},
   "outputs": [
    {
     "data": {
      "text/plain": [
       "{'Roll': '2301EC07',\n",
       " 'name': 'Arpit Raj',\n",
       " 'add': 'Patna',\n",
       " 'account_number': '1234',\n",
       " 'other_details': 'student'}"
      ]
     },
     "execution_count": 148,
     "metadata": {},
     "output_type": "execute_result"
    }
   ],
   "source": [
    "user_db"
   ]
  }
 ],
 "metadata": {
  "kernelspec": {
   "display_name": "base",
   "language": "python",
   "name": "python3"
  },
  "language_info": {
   "codemirror_mode": {
    "name": "ipython",
    "version": 3
   },
   "file_extension": ".py",
   "mimetype": "text/x-python",
   "name": "python",
   "nbconvert_exporter": "python",
   "pygments_lexer": "ipython3",
   "version": "3.13.5"
  }
 },
 "nbformat": 4,
 "nbformat_minor": 5
}
